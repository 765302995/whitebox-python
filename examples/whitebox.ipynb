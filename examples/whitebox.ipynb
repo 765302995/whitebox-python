{
 "cells": [
  {
   "cell_type": "markdown",
   "metadata": {},
   "source": [
    "# A tutorial for the whitebox Python package\n",
    "\n",
    "This notebook demonstrates the usage of the **whitebox** Python package for geospatial analysis, which is built on a stand-alone executable command-line program called [WhiteboxTools](https://github.com/jblindsay/whitebox-tools).\n",
    "\n",
    "* Authors: Dr. John Lindsay (http://www.uoguelph.ca/~hydrogeo/index.html)\n",
    "* Contributors: Dr. Qiusheng Wu (https://wetlands.io)\n",
    "* GitHub repo: https://github.com/giswqs/whitebox\n",
    "* WhiteboxTools: https://github.com/jblindsay/whitebox-tools\n",
    "* PyPI: https://pypi.org/project/whitebox/\n",
    "* Documentation: https://whitebox.readthedocs.io\n",
    "* Free software: [MIT license](https://opensource.org/licenses/MIT)"
   ]
  },
  {
   "cell_type": "markdown",
   "metadata": {},
   "source": [
    "## Installation\n",
    "\n",
    "\n",
    "**whitebox** supports a variety of platforms, including Microsoft Windows, macOS, and Linux operating systems. Note that you will need to have Python 3.x installed. Python 2.x is not supported. The **whitebox** Python package can be installed using the following command:"
   ]
  },
  {
   "cell_type": "code",
   "execution_count": null,
   "metadata": {},
   "outputs": [],
   "source": [
    "!pip install whitebox"
   ]
  },
  {
   "cell_type": "markdown",
   "metadata": {},
   "source": [
    "If you have installed **whitebox** Python package before and want to upgrade to the latest version, you can use the following command:"
   ]
  },
  {
   "cell_type": "code",
   "execution_count": null,
   "metadata": {},
   "outputs": [],
   "source": [
    "!pip install whitebox -U"
   ]
  },
  {
   "cell_type": "markdown",
   "metadata": {},
   "source": [
    "## Usage\n",
    "\n",
    "**import whitebox and call WhiteboxTools()**"
   ]
  },
  {
   "cell_type": "code",
   "execution_count": 1,
   "metadata": {},
   "outputs": [],
   "source": [
    "import whitebox\n",
    "wbt = whitebox.WhiteboxTools()"
   ]
  },
  {
   "cell_type": "markdown",
   "metadata": {},
   "source": [
    "**Prints the whitebox-tools help...a listing of available commands**"
   ]
  },
  {
   "cell_type": "code",
   "execution_count": 2,
   "metadata": {
    "scrolled": true
   },
   "outputs": [
    {
     "name": "stdout",
     "output_type": "stream",
     "text": [
      "whitebox-tools Help\n",
      "\n",
      "The following commands are recognized:\n",
      "--cd, --wd       Changes the working directory; used in conjunction with --run flag.\n",
      "-h, --help       Prints help information.\n",
      "-l, --license    Prints the whitebox-tools license.\n",
      "--listtools      Lists all available tools. Keywords may also be used, --listtools slope.\n",
      "-r, --run        Runs a tool; used in conjuction with --wd flag; -r=\"LidarInfo\".\n",
      "--toolbox        Prints the toolbox associated with a tool; --toolbox=Slope.\n",
      "--toolhelp       Prints the help associated with a tool; --toolhelp=\"LidarInfo\".\n",
      "--toolparameters Prints the parameters (in json form) for a specific tool; --toolparameters=\"LidarInfo\".\n",
      "-v               Verbose mode. Without this flag, tool outputs will not be printed.\n",
      "--viewcode       Opens the source code of a tool in a web browser; --viewcode=\"LidarInfo\".\n",
      "--version        Prints the version information.\n",
      "\n",
      "Example Usage:\n",
      ">> ./whitebox-tools -r=lidar_info --cd=\"/path/to/data/\" -i=input.las --vlr --geokeys\n",
      "\n",
      "\n"
     ]
    }
   ],
   "source": [
    "print(wbt.help())"
   ]
  },
  {
   "cell_type": "markdown",
   "metadata": {},
   "source": [
    "**Prints the whitebox-tools license**"
   ]
  },
  {
   "cell_type": "code",
   "execution_count": 3,
   "metadata": {
    "scrolled": false
   },
   "outputs": [
    {
     "name": "stdout",
     "output_type": "stream",
     "text": [
      "whitebox-tools License\n",
      "Copyright 2017-2018 John Lindsay\n",
      "\n",
      "Permission is hereby granted, free of charge, to any person obtaining a copy of this software and\n",
      "associated documentation files (the \"Software\"), to deal in the Software without restriction,\n",
      "including without limitation the rights to use, copy, modify, merge, publish, distribute, sublicense,\n",
      "and/or sell copies of the Software, and to permit persons to whom the Software is furnished to do so,\n",
      "subject to the following conditions:\n",
      "\n",
      "The above copyright notice and this permission notice shall be included in all copies or substantial\n",
      "portions of the Software.\n",
      "\n",
      "THE SOFTWARE IS PROVIDED \"AS IS\", WITHOUT WARRANTY OF ANY KIND, EXPRESS OR IMPLIED, INCLUDING BUT\n",
      "NOT LIMITED TO THE WARRANTIES OF MERCHANTABILITY, FITNESS FOR A PARTICULAR PURPOSE AND\n",
      "NONINFRINGEMENT. IN NO EVENT SHALL THE AUTHORS OR COPYRIGHT HOLDERS BE LIABLE FOR ANY CLAIM, DAMAGES\n",
      "OR OTHER LIABILITY, WHETHER IN AN ACTION OF CONTRACT, TORT OR OTHERWISE, ARISING FROM, OUT OF OR IN\n",
      "CONNECTION WITH THE SOFTWARE OR THE USE OR OTHER DEALINGS IN THE SOFTWARE.\n",
      "\n"
     ]
    }
   ],
   "source": [
    "print(wbt.license())"
   ]
  },
  {
   "cell_type": "markdown",
   "metadata": {},
   "source": [
    "**Prints the whitebox-tools version**"
   ]
  },
  {
   "cell_type": "code",
   "execution_count": 4,
   "metadata": {},
   "outputs": [
    {
     "name": "stdout",
     "output_type": "stream",
     "text": [
      "Version information: whitebox-tools v0.11.0 by Dr. John B. Lindsay (c) 2017-2018\n",
      "\n"
     ]
    }
   ],
   "source": [
    "print(\"Version information: {}\".format(wbt.version()))"
   ]
  },
  {
   "cell_type": "markdown",
   "metadata": {},
   "source": [
    "**Print the help for a specific tool.**"
   ]
  },
  {
   "cell_type": "code",
   "execution_count": 5,
   "metadata": {
    "scrolled": true
   },
   "outputs": [
    {
     "name": "stdout",
     "output_type": "stream",
     "text": [
      "ElevPercentile\n",
      "Description:\n",
      "Calculates the elevation percentile raster from a DEM.\n",
      "Toolbox: Geomorphometric Analysis\n",
      "Parameters:\n",
      "\n",
      "Flag               Description\n",
      "-----------------  -----------\n",
      "-i, --input, --dem Input raster DEM file.\n",
      "-o, --output       Output raster file.\n",
      "--filterx          Size of the filter kernel in the x-direction.\n",
      "--filtery          Size of the filter kernel in the y-direction.\n",
      "--sig_digits       Number of significant digits.\n",
      "\n",
      "\n",
      "Example usage:\n",
      ">>./whitebox_tools -r=ElevPercentile -v --wd=\"/path/to/data/\" --dem=DEM.tif -o=output.tif --filter=25\n",
      "\n",
      "\n"
     ]
    }
   ],
   "source": [
    "print(wbt.tool_help(\"ElevPercentile\"))"
   ]
  },
  {
   "cell_type": "markdown",
   "metadata": {},
   "source": [
    "**Tool names in the whitebox Python package can be called either using the snake_case or CamelCase convention (e.g. lidar_info or LidarInfo).**"
   ]
  },
  {
   "cell_type": "code",
   "execution_count": 6,
   "metadata": {
    "scrolled": true
   },
   "outputs": [
    {
     "name": "stdout",
     "output_type": "stream",
     "text": [
      "Calculating normal vectors: 0.000665385S\n",
      "Smoothing normal vectors: 0.019074895S\n",
      "Updating elevations...\n",
      "Iteration 1 of 5...\n",
      "Iteration 2 of 5...\n",
      "Iteration 3 of 5...\n",
      "Iteration 4 of 5...\n",
      "Iteration 5 of 5...\n"
     ]
    },
    {
     "data": {
      "text/plain": [
       "0"
      ]
     },
     "execution_count": 6,
     "metadata": {},
     "output_type": "execute_result"
    }
   ],
   "source": [
    "import os, pkg_resources\n",
    "# identify the sample data directory of the package\n",
    "data_dir = os.path.dirname(pkg_resources.resource_filename(\"whitebox\", 'testdata/'))\n",
    "\n",
    "wbt.set_working_dir(data_dir)\n",
    "wbt.verbose = False\n",
    "wbt.feature_preserving_denoise(\"DEM.tif\", \"smoothed.tif\", filter=9)\n",
    "wbt.breach_depressions(\"smoothed.tif\", \"breached.tif\")\n",
    "wbt.d_inf_flow_accumulation(\"breached.tif\", \"flow_accum.tif\")"
   ]
  },
  {
   "cell_type": "markdown",
   "metadata": {},
   "source": [
    "WhiteboxTools also provides a Graphical User Interface (GUI) - **WhiteboxTools Runner**, which can be invoked using the following Python script:"
   ]
  },
  {
   "cell_type": "code",
   "execution_count": 7,
   "metadata": {},
   "outputs": [],
   "source": [
    "import whitebox\n",
    "whitebox.Runner()"
   ]
  },
  {
   "cell_type": "markdown",
   "metadata": {},
   "source": [
    "![](https://wetlands.io/file/images/whitebox.png)"
   ]
  },
  {
   "cell_type": "markdown",
   "metadata": {},
   "source": [
    "**Lists tools with 'lidar' or 'LAS' in tool name or description.**"
   ]
  },
  {
   "cell_type": "code",
   "execution_count": 9,
   "metadata": {},
   "outputs": [
    {
     "name": "stdout",
     "output_type": "stream",
     "text": [
      "001 block_maximum: Creates a block-maximum raster from an input LAS file. When the i ...\n",
      "002 block_minimum: Creates a block-minimum raster from an input LAS file. When the i ...\n",
      "003 classify_overlap_points: Classifies or filters LAS points in regions of overlapping flight ...\n",
      "004 clip_lidar_to_polygon: Clips a LiDAR point cloud to a vector polygon or polygons. ...\n",
      "005 erase_polygon_from_lidar: Erases (cuts out) a vector polygon or polygons from a LiDAR point ...\n",
      "006 filter_lidar_scan_angles: Removes points in a LAS file with scan angles greater than a thre ...\n",
      "007 find_flightline_edge_points: Identifies points along a flightline's edge in a LAS file. ...\n",
      "008 find_patch_or_class_edge_cells: Finds all cells located on the edge of patch or class features. ...\n",
      "009 flightline_overlap: Reads a LiDAR (LAS) point file and outputs a raster containing th ...\n",
      "010 las_to_ascii: Converts one or more LAS files into ASCII text files. ...\n",
      "011 las_to_multipoint_shapefile: Converts one or more LAS files into MultipointZ vector Shapefiles ...\n",
      "012 lidar_colourize: Adds the red-green-blue colour fields of a LiDAR (LAS) file based ...\n",
      "013 lidar_construct_vector_tin: Creates a vector triangular irregular network (TIN) fitted to LiD ...\n",
      "014 lidar_elevation_slice: Outputs all of the points within a LiDAR (LAS) point file that li ...\n",
      "015 lidar_ground_point_filter: Identifies ground points within LiDAR dataset using a slope-based ...\n",
      "016 lidar_hex_binning: Hex-bins a set of LiDAR points. ...\n",
      "017 lidar_hillshade: Calculates a hillshade value for points within a LAS file and sto ...\n",
      "018 lidar_histogram: Creates a histogram from LiDAR data. ...\n",
      "019 lidar_idw_interpolation: Interpolates LAS files using an inverse-distance weighted (IDW) s ...\n",
      "020 lidar_info: Prints information about a LiDAR (LAS) dataset, including header, ...\n",
      "021 lidar_join: Joins multiple LiDAR (LAS) files into a single LAS file. ...\n",
      "022 lidar_kappa_index: Performs a kappa index of agreement (KIA) analysis on the classif ...\n",
      "023 lidar_nearest_neighbour_gridding: Grids LAS files using nearest-neighbour scheme. When the input/ou ...\n",
      "024 lidar_point_density: Calculates the spatial pattern of point density for a LiDAR data  ...\n",
      "025 lidar_point_stats: Creates several rasters summarizing the distribution of LAS point ...\n",
      "026 lidar_remove_duplicates: Removes duplicate points from a LiDAR data set. ...\n",
      "027 lidar_remove_outliers: Removes outliers (high and low points) in a LiDAR point cloud. ...\n",
      "028 lidar_segmentation: Segments a LiDAR point cloud based on normal vectors. ...\n",
      "029 lidar_segmentation_based_filter: Identifies ground points within LiDAR point clouds using a segmen ...\n",
      "030 lidar_tin_gridding: Creates a raster grid based on a Delaunay triangular irregular ne ...\n",
      "031 lidar_thin: Thins a LiDAR point cloud, reducing point density. ...\n",
      "032 lidar_thin_high_density: Thins points from high density areas within a LiDAR point cloud. ...\n",
      "033 lidar_tile: Tiles a LiDAR LAS file into multiple LAS files. ...\n",
      "034 lidar_tile_footprint: Creates a vector polygon of the convex hull of a LiDAR point clou ...\n",
      "035 lidar_tophat_transform: Performs a white top-hat transform on a Lidar dataset; as an esti ...\n",
      "036 normal_vectors: Calculates normal vectors for points within a LAS file and stores ...\n",
      "037 pennock_landform_class: Classifies hillslope zones based on slope, profile curvature, and ...\n",
      "038 raster_cell_assignment: Assign row or column number to cells. ...\n",
      "039 reclass: Reclassifies the values in a raster image. ...\n",
      "040 reclass_equal_interval: Reclassifies the values in a raster image based on equal-ranges. ...\n",
      "041 reclass_from_file: Reclassifies the values in a raster image using reclass ranges in ...\n",
      "042 select_tiles_by_polygon: Copies LiDAR tiles overlapping with a polygon into an output dire ...\n",
      "043 stream_link_class: Identifies the exterior/interior links and nodes in a stream netw ...\n"
     ]
    }
   ],
   "source": [
    "lidar_tools = wbt.list_tools(['lidar', 'LAS'])\n",
    "for index, tool in enumerate(lidar_tools):\n",
    "    print(\"{} {}: {} ...\".format(str(index+1).zfill(3), tool, lidar_tools[tool][:65]))"
   ]
  },
  {
   "cell_type": "markdown",
   "metadata": {},
   "source": [
    "**List all available tools in whitebox-tools**"
   ]
  },
  {
   "cell_type": "code",
   "execution_count": 10,
   "metadata": {},
   "outputs": [
    {
     "name": "stdout",
     "output_type": "stream",
     "text": [
      "001 absolute_value: Calculates the absolute value of every cell in a raster. ...\n",
      "002 adaptive_filter: Performs an adaptive filter on an image. ...\n",
      "003 add: Performs an addition operation on two rasters or a raster and a c ...\n",
      "004 add_point_coordinates_to_table: Modifies the attribute table of a point vector by adding fields c ...\n",
      "005 aggregate_raster: Aggregates a raster to a lower resolution. ...\n",
      "006 and: Performs a logical AND operator on two Boolean raster images. ...\n",
      "007 anova: Performs an analysis of variance (ANOVA) test on a raster dataset ...\n",
      "008 arc_cos: Returns the inverse cosine (arccos) of each values in a raster. ...\n",
      "009 arc_sin: Returns the inverse sine (arcsin) of each values in a raster. ...\n",
      "010 arc_tan: Returns the inverse tangent (arctan) of each values in a raster. ...\n",
      "011 aspect: Calculates an aspect raster from an input DEM. ...\n",
      "012 atan2: Returns the 2-argument inverse tangent (atan2). ...\n",
      "013 attribute_correlation: Performs a correlation analysis on attribute fields from a vector ...\n",
      "014 attribute_histogram: Creates a histogram for the field values of a vector's attribute  ...\n",
      "015 attribute_scattergram: Creates a scattergram for two field values of a vector's attribut ...\n",
      "016 average_flowpath_slope: Measures the average slope gradient from each grid cell to all up ...\n",
      "017 average_overlay: Calculates the average for each grid cell from a group of raster  ...\n",
      "018 average_upslope_flowpath_length: Measures the average length of all upslope flowpaths draining eac ...\n",
      "019 balance_contrast_enhancement: Performs a balance contrast enhancement on a colour-composite ima ...\n",
      "020 basins: Identifies drainage basins that drain to the DEM edge. ...\n",
      "021 bilateral_filter: A bilateral filter is an edge-preserving smoothing filter introdu ...\n",
      "022 block_maximum: Creates a block-maximum raster from an input LAS file. When the i ...\n",
      "023 block_minimum: Creates a block-minimum raster from an input LAS file. When the i ...\n",
      "024 breach_depressions: Breaches all of the depressions in a DEM using Lindsay's (2016) a ...\n",
      "025 breach_single_cell_pits: Removes single-cell pits from an input DEM by breaching. ...\n",
      "026 buffer_raster: Maps a distance-based buffer around each non-background (non-zero ...\n",
      "027 ceil: Returns the smallest (closest to negative infinity) value that is ...\n",
      "028 centroid: Calculates the centroid, or average location, of raster polygon o ...\n",
      "029 centroid_vector: Identifes the centroid point of a vector polyline or polygon feat ...\n",
      "030 change_vector_analysis: Performs a change vector analysis on a two-date multi-spectral da ...\n",
      "031 classify_overlap_points: Classifies or filters LAS points in regions of overlapping flight ...\n",
      "032 clip_lidar_to_polygon: Clips a LiDAR point cloud to a vector polygon or polygons. ...\n",
      "033 clip_raster_to_polygon: Clips a raster to a vector polygon. ...\n",
      "034 closing: A closing is a mathematical morphology operating involving an ero ...\n",
      "035 clump: Groups cells that form physically discrete areas, assigning them  ...\n",
      "036 compactness_ratio: Calculates the compactness ratio (A/P), a measure of shape comple ...\n",
      "037 conservative_smoothing_filter: Performs a conservative-smoothing filter on an image. ...\n",
      "038 construct_vector_tin: Creates a vector triangular irregular network (TIN) for a set of  ...\n",
      "039 convert_nodata_to_zero: Converts nodata values in a raster to zero. ...\n",
      "040 convert_raster_format: Converts raster data from one format to another. ...\n",
      "041 corner_detection: Identifies corner patterns in boolean images using hit-and-miss p ...\n",
      "042 correct_vignetting: Corrects the darkening of images towards corners. ...\n",
      "043 cos: Returns the cosine (cos) of each values in a raster. ...\n",
      "044 cosh: Returns the hyperbolic cosine (cosh) of each values in a raster. ...\n",
      "045 cost_allocation: Identifies the source cell to which each grid cell is connected b ...\n",
      "046 cost_distance: Performs cost-distance accumulation on a cost surface and a group ...\n",
      "047 cost_pathway: Performs cost-distance pathway analysis using a series of destina ...\n",
      "048 count_if: Counts the number of occurrences of a specified value in a cell-s ...\n",
      "049 create_colour_composite: Creates a colour-composite image from three bands of multispectra ...\n",
      "050 create_hexagonal_vector_grid: Creates a hexagonal vector grid. ...\n",
      "051 create_plane: Creates a raster image based on the equation for a simple plane. ...\n",
      "052 create_rectangular_vector_grid: Creates a rectangular vector grid. ...\n",
      "053 crispness_index: Calculates the Crispness Index, which is used to quantify how cri ...\n",
      "054 cross_tabulation: Performs a cross-tabulation on two categorical images. ...\n",
      "055 cumulative_distribution: Converts a raster image to its cumulative distribution function. ...\n",
      "056 d8_flow_accumulation: Calculates a D8 flow accumulation raster from an input DEM. ...\n",
      "057 d8_mass_flux: Performs a D8 mass flux calculation. ...\n",
      "058 d8_pointer: Calculates a D8 flow pointer raster from an input DEM. ...\n",
      "059 d_inf_flow_accumulation: Calculates a D-infinity flow accumulation raster from an input DE ...\n",
      "060 d_inf_mass_flux: Performs a D-infinity mass flux calculation. ...\n",
      "061 d_inf_pointer: Calculates a D-infinity flow pointer (flow direction) raster from ...\n",
      "062 decrement: Decreases the values of each grid cell in an input raster by 1.0  ...\n",
      "063 depth_in_sink: Measures the depth of sinks (depressions) in a DEM. ...\n",
      "064 dev_from_mean_elev: Calculates deviation from mean elevation. ...\n",
      "065 diff_from_mean_elev: Calculates difference from mean elevation (equivalent to a high-p ...\n",
      "066 diff_of_gaussian_filter: Performs a Difference of Gaussian (DoG) filter on an image. ...\n",
      "067 direct_decorrelation_stretch: Performs a direct decorrelation stretch enhancement on a colour-c ...\n",
      "068 directional_relief: Calculates relief for cells in an input DEM for a specified direc ...\n",
      "069 distance_to_outlet: Calculates the distance of stream grid cells to the channel netwo ...\n",
      "070 diversity_filter: Assigns each cell in the output grid the number of different valu ...\n",
      "071 divide: Performs a division operation on two rasters or a raster and a co ...\n",
      "072 downslope_distance_to_stream: Measures distance to the nearest downslope stream cell. ...\n",
      "073 downslope_flowpath_length: Calculates the downslope flowpath length from each cell to basin  ...\n",
      "074 downslope_index: Calculates the Hjerdt et al. (2004) downslope index. ...\n",
      "075 drainage_preserving_smoothing: Reduces short-scale variation in an input DEM while preserving br ...\n",
      "076 edge_preserving_mean_filter: Performs a simple edge-preserving mean filter on an input image. ...\n",
      "077 edge_proportion: Calculate the proportion of cells in a raster polygon that are ed ...\n",
      "078 elev_above_pit: Calculate the elevation of each grid cell above the nearest downs ...\n",
      "079 elev_percentile: Calculates the elevation percentile raster from a DEM. ...\n",
      "080 elev_relative_to_min_max: Calculates the elevation of a location relative to the minimum an ...\n",
      "081 elev_relative_to_watershed_min_max: Calculates the elevation of a location relative to the minimum an ...\n",
      "082 elevation_above_stream: Calculates the elevation of cells above the nearest downslope str ...\n",
      "083 elevation_above_stream_euclidean: Calculates the elevation of cells above the nearest (Euclidean di ...\n",
      "084 eliminate_coincident_points: Removes any coincident, or nearly coincident, points from a vecto ...\n",
      "085 elongation_ratio: Calculates the elongation ratio for vector polygons. ...\n",
      "086 emboss_filter: Performs an emboss filter on an image, similar to a hillshade ope ...\n",
      "087 equal_to: Performs a equal-to comparison operation on two rasters or a rast ...\n",
      "088 erase_polygon_from_lidar: Erases (cuts out) a vector polygon or polygons from a LiDAR point ...\n",
      "089 erase_polygon_from_raster: Erases (cuts out) a vector polygon from a raster. ...\n",
      "090 euclidean_allocation: Assigns grid cells in the output raster the value of the nearest  ...\n",
      "091 euclidean_distance: Calculates the Shih and Wu (2004) Euclidean distance transform. ...\n",
      "092 exp: Returns the exponential (base e) of values in a raster. ...\n",
      "093 exp2: Returns the exponential (base 2) of values in a raster. ...\n",
      "094 export_table_to_csv: Exports an attribute table to a CSV text file. ...\n",
      "095 extend_vector_lines: Extends vector lines by a specified distance. ...\n",
      "096 extract_nodes: Converts vector lines or polygons into vertex points. ...\n",
      "097 extract_raster_statistics: Extracts descriptive statistics for a group of patches in a raste ...\n",
      "098 extract_raster_values_at_points: Extracts the values of raster(s) at vector point locations. ...\n",
      "099 extract_streams: Extracts stream grid cells from a flow accumulation raster. ...\n",
      "100 extract_valleys: Identifies potential valley bottom grid cells based on local topo ...\n",
      "101 fd8_flow_accumulation: Calculates an FD8 flow accumulation raster from an input DEM. ...\n",
      "102 fd8_pointer: Calculates an FD8 flow pointer raster from an input DEM. ...\n",
      "103 farthest_channel_head: Calculates the distance to the furthest upstream channel head for ...\n",
      "104 fast_almost_gaussian_filter: Performs a fast approximate Gaussian filter on an image. ...\n",
      "105 feature_preserving_denoise: Reduces short-scale variation in an input DEM using a modified Su ...\n",
      "106 fetch_analysis: Performs an analysis of fetch or upwind distance to an obstacle. ...\n",
      "107 fill_burn: Burns streams into a DEM using the FillBurn (Saunders, 1999) meth ...\n",
      "108 fill_depressions: Fills all of the depressions in a DEM. Depression breaching shoul ...\n",
      "109 fill_missing_data: Fills nodata holes in a DEM. ...\n",
      "110 fill_single_cell_pits: Raises pit cells to the elevation of their lowest neighbour. ...\n",
      "111 filter_lidar_scan_angles: Removes points in a LAS file with scan angles greater than a thre ...\n",
      "112 find_flightline_edge_points: Identifies points along a flightline's edge in a LAS file. ...\n",
      "113 find_lowest_or_highest_points: Locates the lowest and/or highest valued cells in a raster. ...\n",
      "114 find_main_stem: Finds the main stem, based on stream lengths, of each stream netw ...\n",
      "115 find_no_flow_cells: Finds grid cells with no downslope neighbours. ...\n",
      "116 find_parallel_flow: Finds areas of parallel flow in D8 flow direction rasters. ...\n",
      "117 find_patch_or_class_edge_cells: Finds all cells located on the edge of patch or class features. ...\n",
      "118 find_ridges: Identifies potential ridge and peak grid cells. ...\n",
      "119 flatten_lakes: Flattens lake polygons in a raster DEM. ...\n",
      "120 flightline_overlap: Reads a LiDAR (LAS) point file and outputs a raster containing th ...\n",
      "121 flip_image: Reflects an image in the vertical or horizontal axis. ...\n",
      "122 flood_order: Assigns each DEM grid cell its order in the sequence of inundatio ...\n",
      "123 floor: Returns the largest (closest to positive infinity) value that is  ...\n",
      "124 flow_accumulation_full_workflow: Resolves all of the depressions in a DEM, outputting a breached D ...\n",
      "125 flow_length_diff: Calculates the local maximum absolute difference in downslope flo ...\n",
      "126 gamma_correction: Performs a sigmoidal contrast stretch on input images. ...\n",
      "127 gaussian_contrast_stretch: Performs a Gaussian contrast stretch on input images. ...\n",
      "128 gaussian_filter: Performs a Gaussian filter on an image. ...\n",
      "129 greater_than: Performs a greater-than comparison operation on two rasters or a  ...\n",
      "130 hack_stream_order: Assigns the Hack stream order to each tributary in a stream netwo ...\n",
      "131 high_pass_filter: Performs a high-pass filter on an input image. ...\n",
      "132 high_pass_median_filter: Performs a high pass median filter on an input image. ...\n",
      "133 highest_position: Identifies the stack position of the maximum value within a raste ...\n",
      "134 hillshade: Calculates a hillshade raster from an input DEM. ...\n",
      "135 hillslopes: Identifies the individual hillslopes draining to each link in a s ...\n",
      "136 histogram_equalization: Performs a histogram equalization contrast enhancment on an image ...\n",
      "137 histogram_matching: Alters the statistical distribution of a raster image matching it ...\n",
      "138 histogram_matching_two_images: This tool alters the cumulative distribution function of a raster ...\n",
      "139 hole_proportion: Calculates the proportion of the total area of a polygon's holes  ...\n",
      "140 horizon_angle: Calculates horizon angle (maximum upwind slope) for each grid cel ...\n",
      "141 horton_stream_order: Assigns the Horton stream order to each tributary in a stream net ...\n",
      "142 hypsometric_analysis: Calculates a hypsometric curve for one or more DEMs. ...\n",
      "143 idw_interpolation: Interpolates vector points into a raster surface using an inverse ...\n",
      "144 ihs_to_rgb: Converts intensity, hue, and saturation (IHS) images into red, gr ...\n",
      "145 image_autocorrelation: Performs Moran's I analysis on two or more input images. ...\n",
      "146 image_correlation: Performs image correlation on two or more input images. ...\n",
      "147 image_regression: Performs image regression analysis on two input images. ...\n",
      "148 image_stack_profile: Plots an image stack profile (i.e. signature) for a set of points ...\n",
      "149 impoundment_index: Calculates the impoundment size resulting from damming a DEM. ...\n",
      "150 in_place_add: Performs an in-place addition operation (input1 += input2). ...\n",
      "151 in_place_divide: Performs an in-place division operation (input1 /= input2). ...\n",
      "152 in_place_multiply: Performs an in-place multiplication operation (input1 *= input2). ...\n",
      "153 in_place_subtract: Performs an in-place subtraction operation (input1 -= input2). ...\n",
      "154 increment: Increases the values of each grid cell in an input raster by 1.0. ...\n",
      "155 integer_division: Performs an integer division operation on two rasters or a raster ...\n",
      "156 integral_image: Transforms an input image (summed area table) into its integral i ...\n",
      "157 is_no_data: Identifies NoData valued pixels in an image. ...\n",
      "158 isobasins: Divides a landscape into nearly equal sized drainage basins (i.e. ...\n",
      "159 jenson_snap_pour_points: Moves outlet points used to specify points of interest in a water ...\n",
      "160 k_means_clustering: Performs a k-means clustering operation on a multi-spectral datas ...\n",
      "161 k_nearest_mean_filter: A k-nearest mean filter is a type of edge-preserving smoothing fi ...\n",
      "162 ks_test_for_normality: Evaluates whether the values in a raster are normally distributed ...\n",
      "163 kappa_index: Performs a kappa index of agreement (KIA) analysis on two categor ...\n",
      "164 laplacian_filter: Performs a Laplacian filter on an image. ...\n",
      "165 laplacian_of_gaussian_filter: Performs a Laplacian-of-Gaussian (LoG) filter on an image. ...\n",
      "166 las_to_ascii: Converts one or more LAS files into ASCII text files. ...\n",
      "167 las_to_multipoint_shapefile: Converts one or more LAS files into MultipointZ vector Shapefiles ...\n",
      "168 layer_footprint: Creates a vector polygon footprint of the area covered by a raste ...\n",
      "169 lee_filter: Performs a Lee (Sigma) smoothing filter on an image. ...\n",
      "170 length_of_upstream_channels: Calculates the total length of channels upstream. ...\n",
      "171 less_than: Performs a less-than comparison operation on two rasters or a ras ...\n",
      "172 lidar_colourize: Adds the red-green-blue colour fields of a LiDAR (LAS) file based ...\n",
      "173 lidar_construct_vector_tin: Creates a vector triangular irregular network (TIN) fitted to LiD ...\n",
      "174 lidar_elevation_slice: Outputs all of the points within a LiDAR (LAS) point file that li ...\n",
      "175 lidar_ground_point_filter: Identifies ground points within LiDAR dataset using a slope-based ...\n",
      "176 lidar_hex_binning: Hex-bins a set of LiDAR points. ...\n",
      "177 lidar_hillshade: Calculates a hillshade value for points within a LAS file and sto ...\n",
      "178 lidar_histogram: Creates a histogram from LiDAR data. ...\n",
      "179 lidar_idw_interpolation: Interpolates LAS files using an inverse-distance weighted (IDW) s ...\n",
      "180 lidar_info: Prints information about a LiDAR (LAS) dataset, including header, ...\n",
      "181 lidar_join: Joins multiple LiDAR (LAS) files into a single LAS file. ...\n",
      "182 lidar_kappa_index: Performs a kappa index of agreement (KIA) analysis on the classif ...\n",
      "183 lidar_nearest_neighbour_gridding: Grids LAS files using nearest-neighbour scheme. When the input/ou ...\n",
      "184 lidar_point_density: Calculates the spatial pattern of point density for a LiDAR data  ...\n",
      "185 lidar_point_stats: Creates several rasters summarizing the distribution of LAS point ...\n",
      "186 lidar_remove_duplicates: Removes duplicate points from a LiDAR data set. ...\n",
      "187 lidar_remove_outliers: Removes outliers (high and low points) in a LiDAR point cloud. ...\n",
      "188 lidar_segmentation: Segments a LiDAR point cloud based on normal vectors. ...\n",
      "189 lidar_segmentation_based_filter: Identifies ground points within LiDAR point clouds using a segmen ...\n",
      "190 lidar_tin_gridding: Creates a raster grid based on a Delaunay triangular irregular ne ...\n",
      "191 lidar_thin: Thins a LiDAR point cloud, reducing point density. ...\n",
      "192 lidar_thin_high_density: Thins points from high density areas within a LiDAR point cloud. ...\n",
      "193 lidar_tile: Tiles a LiDAR LAS file into multiple LAS files. ...\n",
      "194 lidar_tile_footprint: Creates a vector polygon of the convex hull of a LiDAR point clou ...\n",
      "195 lidar_tophat_transform: Performs a white top-hat transform on a Lidar dataset; as an esti ...\n",
      "196 line_detection_filter: Performs a line-detection filter on an image. ...\n",
      "197 line_thinning: Performs line thinning a on Boolean raster image; intended to be  ...\n",
      "198 lines_to_polygons: Converts vector polylines to polygons. ...\n",
      "199 list_unique_values: Lists the unique values contained in a field witin a vector's att ...\n",
      "200 ln: Returns the natural logarithm of values in a raster. ...\n",
      "201 log10: Returns the base-10 logarithm of values in a raster. ...\n",
      "202 log2: Returns the base-2 logarithm of values in a raster. ...\n",
      "203 long_profile: Plots the stream longitudinal profiles for one or more rivers. ...\n",
      "204 long_profile_from_points: Plots the longitudinal profiles from flow-paths initiating from a ...\n",
      "205 lowest_position: Identifies the stack position of the minimum value within a raste ...\n",
      "206 majority_filter: Assigns each cell in the output grid the most frequently occurrin ...\n",
      "207 max: Performs a MAX operation on two rasters or a raster and a constan ...\n",
      "208 max_absolute_overlay: Evaluates the maximum absolute value for each grid cell from a st ...\n",
      "209 max_anisotropy_dev: Calculates the maximum anisotropy (directionality) in elevation d ...\n",
      "210 max_anisotropy_dev_signature: Calculates the anisotropy in deviation from mean for points over  ...\n",
      "211 max_branch_length: Lindsay and Seibert's (2013) branch length index is used to map d ...\n",
      "212 max_difference_from_mean: Calculates the maximum difference from mean elevation over a rang ...\n",
      "213 max_downslope_elev_change: Calculates the maximum downslope change in elevation between a gr ...\n",
      "214 max_elev_dev_signature: Calculates the maximum elevation deviation over a range of spatia ...\n",
      "215 max_elevation_deviation: Calculates the maximum elevation deviation over a range of spatia ...\n",
      "216 max_overlay: Evaluates the maximum value for each grid cell from a stack of in ...\n",
      "217 max_upslope_flowpath_length: Measures the maximum length of all upslope flowpaths draining eac ...\n",
      "218 maximum_filter: Assigns each cell in the output grid the maximum value in a movin ...\n",
      "219 mean_filter: Performs a mean filter (low-pass filter) on an input image. ...\n",
      "220 median_filter: Performs a median filter on an input image. ...\n",
      "221 medoid: Calculates the medoid for a series of vector features contained i ...\n",
      "222 min: Performs a MIN operation on two rasters or a raster and a constan ...\n",
      "223 min_absolute_overlay: Evaluates the minimum absolute value for each grid cell from a st ...\n",
      "224 min_downslope_elev_change: Calculates the minimum downslope change in elevation between a gr ...\n",
      "225 min_max_contrast_stretch: Performs a min-max contrast stretch on an input greytone image. ...\n",
      "226 min_overlay: Evaluates the minimum value for each grid cell from a stack of in ...\n",
      "227 minimum_bounding_box: Creates a vector minimum bounding rectangle around vector feature ...\n",
      "228 minimum_bounding_circle: Delineates the minimum bounding circle (i.e. smallest enclosing c ...\n",
      "229 minimum_bounding_envelope: Creates a vector axis-aligned minimum bounding rectangle (envelop ...\n",
      "230 minimum_convex_hull: Creates a vector convex polygon around vector features. ...\n",
      "231 minimum_filter: Assigns each cell in the output grid the minimum value in a movin ...\n",
      "232 modified_k_means_clustering: Performs a modified k-means clustering operation on a multi-spect ...\n",
      "233 modulo: Performs a modulo operation on two rasters or a raster and a cons ...\n",
      "234 mosaic: Mosaics two or more images together. ...\n",
      "235 multi_part_to_single_part: Converts a vector file containing multi-part features into a vect ...\n",
      "236 multiply: Performs a multiplication operation on two rasters or a raster an ...\n",
      "237 multiscale_roughness: Calculates surface roughness over a range of spatial scales. ...\n",
      "238 multiscale_roughness_signature: Calculates the surface roughness for points over a range of spati ...\n",
      "239 multiscale_topographic_position_image: Creates a multiscale topographic position image from three DEVmax ...\n",
      "240 negate: Changes the sign of values in a raster or the 0-1 values of a Boo ...\n",
      "241 new_raster_from_base: Creates a new raster using a base image. ...\n",
      "242 normal_vectors: Calculates normal vectors for points within a LAS file and stores ...\n",
      "243 normalized_difference_vegetation_index: Calculates the normalized difference vegetation index (NDVI) from ...\n",
      "244 not: Performs a logical NOT operator on two Boolean raster images. ...\n",
      "245 not_equal_to: Performs a not-equal-to comparison operation on two rasters or a  ...\n",
      "246 num_downslope_neighbours: Calculates the number of downslope neighbours to each grid cell i ...\n",
      "247 num_inflowing_neighbours: Computes the number of inflowing neighbours to each cell in an in ...\n",
      "248 num_upslope_neighbours: Calculates the number of upslope neighbours to each grid cell in  ...\n",
      "249 olympic_filter: Performs an olympic smoothing filter on an image. ...\n",
      "250 opening: An opening is a mathematical morphology operating involving a dil ...\n",
      "251 or: Performs a logical OR operator on two Boolean raster images. ...\n",
      "252 panchromatic_sharpening: Increases the spatial resolution of image data by combining multi ...\n",
      "253 pennock_landform_class: Classifies hillslope zones based on slope, profile curvature, and ...\n",
      "254 percent_elev_range: Calculates percent of elevation range from a DEM. ...\n",
      "255 percent_equal_to: Calculates the percentage of a raster stack that have cell values ...\n",
      "256 percent_greater_than: Calculates the percentage of a raster stack that have cell values ...\n",
      "257 percent_less_than: Calculates the percentage of a raster stack that have cell values ...\n",
      "258 percentage_contrast_stretch: Performs a percentage linear contrast stretch on input images. ...\n",
      "259 percentile_filter: Performs a percentile filter on an input image. ...\n",
      "260 perimeter_area_ratio: Calculates the perimeter-area ratio of vector polygons. ...\n",
      "261 pick_from_list: Outputs the value from a raster stack specified by a position ras ...\n",
      "262 plan_curvature: Calculates a plan (contour) curvature raster from an input DEM. ...\n",
      "263 polygon_area: Calculates the area of vector polygons. ...\n",
      "264 polygon_long_axis: This tool can be used to map the long axis of polygon features. ...\n",
      "265 polygon_perimeter: Calculates the perimeter of vector polygons. ...\n",
      "266 polygon_short_axis: This tool can be used to map the short axis of polygon features. ...\n",
      "267 polygons_to_lines: Converts vector polygons to polylines. ...\n",
      "268 power: Raises the values in grid cells of one rasters, or a constant val ...\n",
      "269 prewitt_filter: Performs a Prewitt edge-detection filter on an image. ...\n",
      "270 principal_component_analysis: Performs a principal component analysis (PCA) on a multi-spectral ...\n",
      "271 print_geo_tiff_tags: Prints the tags within a GeoTIFF. ...\n",
      "272 profile: Plots profiles from digital surface models. ...\n",
      "273 profile_curvature: Calculates a profile curvature raster from an input DEM. ...\n",
      "274 quantiles: Transforms raster values into quantiles. ...\n",
      "275 radius_of_gyration: Calculates the distance of cells from their polygon's centroid. ...\n",
      "276 raise_walls: Raises walls in a DEM along a line or around a polygon, e.g. a wa ...\n",
      "277 random_field: Creates an image containing random values. ...\n",
      "278 random_sample: Creates an image containing randomly located sample grid cells wi ...\n",
      "279 range_filter: Assigns each cell in the output grid the range of values in a mov ...\n",
      "280 raster_cell_assignment: Assign row or column number to cells. ...\n",
      "281 raster_histogram: Creates a histogram from raster values. ...\n",
      "282 raster_streams_to_vector: Converts a raster stream file into a vector file. ...\n",
      "283 raster_summary_stats: Measures a rasters average, standard deviation, num. non-nodata c ...\n",
      "284 raster_to_vector_points: Converts a raster dataset to a vector of the POINT shapetype. ...\n",
      "285 rasterize_streams: Rasterizes vector streams based on Lindsay (2016) method. ...\n",
      "286 reciprocal: Returns the reciprocal (i.e. 1 / z) of values in a raster. ...\n",
      "287 reclass: Reclassifies the values in a raster image. ...\n",
      "288 reclass_equal_interval: Reclassifies the values in a raster image based on equal-ranges. ...\n",
      "289 reclass_from_file: Reclassifies the values in a raster image using reclass ranges in ...\n",
      "290 reinitialize_attribute_table: Reinitializes a vector's attribute table deleting all fields but  ...\n",
      "291 related_circumscribing_circle: Calculates the related circumscribing circle of vector polygons. ...\n",
      "292 relative_aspect: Calculates relative aspect (relative to a user-specified directio ...\n",
      "293 relative_stream_power_index: Calculates the relative stream power index. ...\n",
      "294 relative_topographic_position: Calculates the relative topographic position index from a DEM. ...\n",
      "295 remove_off_terrain_objects: Removes off-terrain objects from a raster digital elevation model ...\n",
      "296 remove_polygon_holes: Removes holes within the features of a vector polygon file. ...\n",
      "297 remove_short_streams: Removes short first-order streams from a stream network. ...\n",
      "298 remove_spurs: Removes the spurs (pruning operation) from a Boolean line image.; ...\n",
      "299 resample: Resamples one or more input images into a destination image. ...\n",
      "300 rescale_value_range: Performs a min-max contrast stretch on an input greytone image. ...\n",
      "301 rgb_to_ihs: Converts red, green, and blue (RGB) images into intensity, hue, a ...\n",
      "302 rho8_pointer: Calculates a stochastic Rho8 flow pointer raster from an input DE ...\n",
      "303 roberts_cross_filter: Performs a Robert's cross edge-detection filter on an image. ...\n",
      "304 root_mean_square_error: Calculates the RMSE and other accuracy statistics. ...\n",
      "305 round: Rounds the values in an input raster to the nearest integer value ...\n",
      "306 ruggedness_index: Calculates the Riley et al.'s (1999) terrain ruggedness index fro ...\n",
      "307 scharr_filter: Performs a Scharr edge-detection filter on an image. ...\n",
      "308 sediment_transport_index: Calculates the sediment transport index. ...\n",
      "309 select_tiles_by_polygon: Copies LiDAR tiles overlapping with a polygon into an output dire ...\n",
      "310 set_nodata_value: Assign a specified value in an input image to the NoData value. ...\n",
      "311 shape_complexity_index: Calculates overall polygon shape complexity or irregularity. ...\n",
      "312 shreve_stream_magnitude: Assigns the Shreve stream magnitude to each link in a stream netw ...\n",
      "313 sigmoidal_contrast_stretch: Performs a sigmoidal contrast stretch on input images. ...\n",
      "314 sin: Returns the sine (sin) of each values in a raster. ...\n",
      "315 single_part_to_multi_part: Converts a vector file containing multi-part features into a vect ...\n",
      "316 sinh: Returns the hyperbolic sine (sinh) of each values in a raster. ...\n",
      "317 sink: Identifies the depressions in a DEM, giving each feature a unique ...\n",
      "318 slope: Calculates a slope raster from an input DEM. ...\n",
      "319 slope_vs_elevation_plot: Creates a slope vs. elevation plot for one or more DEMs. ...\n",
      "320 smooth_vectors: Smooths a vector coverage of either a POLYLINE or POLYGON base Sh ...\n",
      "321 snap_pour_points: Moves outlet points used to specify points of interest in a water ...\n",
      "322 sobel_filter: Performs a Sobel edge-detection filter on an image. ...\n",
      "323 split_colour_composite: This tool splits an RGB colour composite image into seperate mult ...\n",
      "324 square: Squares the values in a raster. ...\n",
      "325 square_root: Returns the square root of the values in a raster. ...\n",
      "326 standard_deviation_contrast_stretch: Performs a standard-deviation contrast stretch on input images. ...\n",
      "327 standard_deviation_filter: Assigns each cell in the output grid the standard deviation of va ...\n",
      "328 standard_deviation_of_slope: Calculates the standard deviation of slope from an input DEM. ...\n",
      "329 stochastic_depression_analysis: Preforms a stochastic analysis of depressions within a DEM. ...\n",
      "330 strahler_order_basins: Identifies Strahler-order basins from an input stream network. ...\n",
      "331 strahler_stream_order: Assigns the Strahler stream order to each link in a stream networ ...\n",
      "332 stream_link_class: Identifies the exterior/interior links and nodes in a stream netw ...\n",
      "333 stream_link_identifier: Assigns a unique identifier to each link in a stream network. ...\n",
      "334 stream_link_length: Estimates the length of each link (or tributary) in a stream netw ...\n",
      "335 stream_link_slope: Estimates the average slope of each link (or tributary) in a stre ...\n",
      "336 stream_slope_continuous: Estimates the slope of each grid cell in a stream network. ...\n",
      "337 subbasins: Identifies the catchments, or sub-basin, draining to each link in ...\n",
      "338 subtract: Performs a differencing operation on two rasters or a raster and  ...\n",
      "339 sum_overlay: Calculates the sum for each grid cell from a group of raster imag ...\n",
      "340 tin_gridding: Creates a raster grid based on a triangular irregular network (TI ...\n",
      "341 tan: Returns the tangent (tan) of each values in a raster. ...\n",
      "342 tangential_curvature: Calculates a tangential curvature raster from an input DEM. ...\n",
      "343 tanh: Returns the hyperbolic tangent (tanh) of each values in a raster. ...\n",
      "344 thicken_raster_line: Thickens single-cell wide lines within a raster image. ...\n",
      "345 to_degrees: Converts a raster from radians to degrees. ...\n",
      "346 to_radians: Converts a raster from degrees to radians. ...\n",
      "347 tophat_transform: Performs either a white or black top-hat transform on an input im ...\n",
      "348 topological_stream_order: Assigns each link in a stream network its topological order. ...\n",
      "349 total_curvature: Calculates a total curvature raster from an input DEM. ...\n",
      "350 total_filter: Performs a total filter on an input image. ...\n",
      "351 trace_downslope_flowpaths: Traces downslope flowpaths from one or more target sites (i.e. se ...\n",
      "352 trend_surface: Estimates the trend surface of an input raster file. ...\n",
      "353 trend_surface_vector_points: Estimates a trend surface from vector points. ...\n",
      "354 tributary_identifier: Assigns a unique identifier to each tributary in a stream network ...\n",
      "355 truncate: Truncates the values in a raster to the desired number of decimal ...\n",
      "356 turning_bands_simulation: Creates an image containing random values based on a turning-band ...\n",
      "357 unnest_basins: Extract whole watersheds for a set of outlet points. ...\n",
      "358 unsharp_masking: An image sharpening technique that enhances edges. ...\n",
      "359 user_defined_weights_filter: Performs a user-defined weights filter on an image. ...\n",
      "360 vector_hex_binning: Hex-bins a set of vector points. ...\n",
      "361 vector_lines_to_raster: Converts a vector containing polylines into a raster. ...\n",
      "362 vector_points_to_raster: Converts a vector containing points into a raster. ...\n",
      "363 vector_polygons_to_raster: Converts a vector containing polygons into a raster. ...\n",
      "364 viewshed: Identifies the viewshed for a point or set of points. ...\n",
      "365 visibility_index: Estimates the relative visibility of sites in a DEM. ...\n",
      "366 watershed: Identifies the watershed, or drainage basin, draining to a set of ...\n",
      "367 weighted_overlay: Performs a weighted sum on multiple input rasters after convertin ...\n",
      "368 weighted_sum: Performs a weighted-sum overlay on multiple input raster images. ...\n",
      "369 wetness_index: Calculates the topographic wetness index, Ln(A / tan(slope)). ...\n",
      "370 write_function_memory_insertion: Performs a write function memory insertion for single-band multi- ...\n",
      "371 xor: Performs a logical XOR operator on two Boolean raster images. ...\n",
      "372 z_scores: Standardizes the values in an input raster by converting to z-sco ...\n"
     ]
    }
   ],
   "source": [
    "all_tools = wbt.list_tools()\n",
    "for index, tool in enumerate(all_tools):\n",
    "    print(\"{} {}: {} ...\".format(str(index+1).zfill(3), tool, all_tools[tool][:65]))"
   ]
  }
 ],
 "metadata": {
  "kernelspec": {
   "display_name": "py36",
   "language": "python",
   "name": "py36"
  },
  "language_info": {
   "codemirror_mode": {
    "name": "ipython",
    "version": 3
   },
   "file_extension": ".py",
   "mimetype": "text/x-python",
   "name": "python",
   "nbconvert_exporter": "python",
   "pygments_lexer": "ipython3",
   "version": "3.6.6"
  }
 },
 "nbformat": 4,
 "nbformat_minor": 2
}
